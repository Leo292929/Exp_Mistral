{
  "cells": [
    {
      "cell_type": "markdown",
      "source": [
        "# Import"
      ],
      "metadata": {
        "id": "IzCSajBc75-i"
      },
      "id": "IzCSajBc75-i"
    },
    {
      "cell_type": "code",
      "source": [
        "! pip install faiss-cpu==1.7.4 mistralai"
      ],
      "metadata": {
        "id": "-LMlgWsY8CgW",
        "outputId": "25ede4b2-b4d3-41aa-c401-14741aca0d30",
        "colab": {
          "base_uri": "https://localhost:8080/"
        }
      },
      "id": "-LMlgWsY8CgW",
      "execution_count": 15,
      "outputs": [
        {
          "output_type": "stream",
          "name": "stdout",
          "text": [
            "Requirement already satisfied: faiss-cpu==1.7.4 in /usr/local/lib/python3.10/dist-packages (1.7.4)\n",
            "Requirement already satisfied: mistralai in /usr/local/lib/python3.10/dist-packages (0.4.2)\n",
            "Requirement already satisfied: httpx<1,>=0.25 in /usr/local/lib/python3.10/dist-packages (from mistralai) (0.27.0)\n",
            "Requirement already satisfied: orjson<3.11,>=3.9.10 in /usr/local/lib/python3.10/dist-packages (from mistralai) (3.10.6)\n",
            "Requirement already satisfied: pydantic<3,>=2.5.2 in /usr/local/lib/python3.10/dist-packages (from mistralai) (2.8.2)\n",
            "Requirement already satisfied: anyio in /usr/local/lib/python3.10/dist-packages (from httpx<1,>=0.25->mistralai) (3.7.1)\n",
            "Requirement already satisfied: certifi in /usr/local/lib/python3.10/dist-packages (from httpx<1,>=0.25->mistralai) (2024.7.4)\n",
            "Requirement already satisfied: httpcore==1.* in /usr/local/lib/python3.10/dist-packages (from httpx<1,>=0.25->mistralai) (1.0.5)\n",
            "Requirement already satisfied: idna in /usr/local/lib/python3.10/dist-packages (from httpx<1,>=0.25->mistralai) (3.7)\n",
            "Requirement already satisfied: sniffio in /usr/local/lib/python3.10/dist-packages (from httpx<1,>=0.25->mistralai) (1.3.1)\n",
            "Requirement already satisfied: h11<0.15,>=0.13 in /usr/local/lib/python3.10/dist-packages (from httpcore==1.*->httpx<1,>=0.25->mistralai) (0.14.0)\n",
            "Requirement already satisfied: annotated-types>=0.4.0 in /usr/local/lib/python3.10/dist-packages (from pydantic<3,>=2.5.2->mistralai) (0.7.0)\n",
            "Requirement already satisfied: pydantic-core==2.20.1 in /usr/local/lib/python3.10/dist-packages (from pydantic<3,>=2.5.2->mistralai) (2.20.1)\n",
            "Requirement already satisfied: typing-extensions>=4.6.1 in /usr/local/lib/python3.10/dist-packages (from pydantic<3,>=2.5.2->mistralai) (4.12.2)\n",
            "Requirement already satisfied: exceptiongroup in /usr/local/lib/python3.10/dist-packages (from anyio->httpx<1,>=0.25->mistralai) (1.2.1)\n"
          ]
        }
      ]
    },
    {
      "cell_type": "code",
      "source": [
        "from mistralai.client import MistralClient\n",
        "from mistralai.models.chat_completion import ChatMessage\n",
        "import requests\n",
        "import numpy as np\n",
        "import faiss\n",
        "import os\n",
        "from getpass import getpass\n",
        "\n",
        "api_key= getpass(\"Type your API Key\")\n",
        "client = MistralClient(api_key=api_key)"
      ],
      "metadata": {
        "id": "iPnz6zVC8GqI",
        "outputId": "67221df4-6626-4b8e-86e6-43cb028f8060",
        "colab": {
          "base_uri": "https://localhost:8080/"
        }
      },
      "id": "iPnz6zVC8GqI",
      "execution_count": 16,
      "outputs": [
        {
          "name": "stdout",
          "output_type": "stream",
          "text": [
            "Type your API Key··········\n"
          ]
        }
      ]
    },
    {
      "cell_type": "markdown",
      "source": [
        "# Get data"
      ],
      "metadata": {
        "id": "XUye6Wxm8V26"
      },
      "id": "XUye6Wxm8V26"
    },
    {
      "cell_type": "code",
      "source": [
        "response = requests.get('https://raw.githubusercontent.com/run-llama/llama_index/main/docs/docs/examples/data/paul_graham/paul_graham_essay.txt')\n",
        "text = response.text"
      ],
      "metadata": {
        "id": "w_SMzzWE8Zc2"
      },
      "id": "w_SMzzWE8Zc2",
      "execution_count": 17,
      "outputs": []
    },
    {
      "cell_type": "markdown",
      "source": [
        "# Chunkisation"
      ],
      "metadata": {
        "id": "t29-WQ_o8jx5"
      },
      "id": "t29-WQ_o8jx5"
    },
    {
      "cell_type": "code",
      "source": [
        "chunk_size = 2048\n",
        "chunks = [text[i:i + chunk_size] for i in range(0, len(text), chunk_size)]"
      ],
      "metadata": {
        "id": "TNnrdGh98mjb"
      },
      "id": "TNnrdGh98mjb",
      "execution_count": 18,
      "outputs": []
    },
    {
      "cell_type": "code",
      "source": [
        "len(chunks)"
      ],
      "metadata": {
        "id": "pdk0oZ698rbL",
        "outputId": "b7a7388a-95e6-482c-a72a-84160cff899c",
        "colab": {
          "base_uri": "https://localhost:8080/"
        }
      },
      "id": "pdk0oZ698rbL",
      "execution_count": 19,
      "outputs": [
        {
          "output_type": "execute_result",
          "data": {
            "text/plain": [
              "37"
            ]
          },
          "metadata": {},
          "execution_count": 19
        }
      ]
    },
    {
      "cell_type": "code",
      "source": [
        "def get_text_embedding(input):\n",
        "    embeddings_batch_response = client.embeddings(\n",
        "          model=\"mistral-embed\",\n",
        "          input=input\n",
        "      )\n",
        "    return embeddings_batch_response.data[0].embedding"
      ],
      "metadata": {
        "id": "PNSQLvrS9IWM"
      },
      "id": "PNSQLvrS9IWM",
      "execution_count": 20,
      "outputs": []
    },
    {
      "cell_type": "code",
      "source": [
        "text_embeddings = np.array([get_text_embedding(chunk) for chunk in chunks])"
      ],
      "metadata": {
        "id": "MF_Dzc1u-oGc"
      },
      "id": "MF_Dzc1u-oGc",
      "execution_count": 21,
      "outputs": []
    },
    {
      "cell_type": "code",
      "source": [
        "text_embeddings = np.array([get_text_embedding(chunk) for chunk in chunks])"
      ],
      "metadata": {
        "id": "ZLcoWeQ_-8j8"
      },
      "id": "ZLcoWeQ_-8j8",
      "execution_count": 22,
      "outputs": []
    },
    {
      "cell_type": "code",
      "source": [
        "text_embeddings"
      ],
      "metadata": {
        "id": "6Z_6vFQC-9Bz",
        "outputId": "d4284828-50f7-4cf4-da79-f2853af5558d",
        "colab": {
          "base_uri": "https://localhost:8080/"
        }
      },
      "id": "6Z_6vFQC-9Bz",
      "execution_count": 23,
      "outputs": [
        {
          "output_type": "execute_result",
          "data": {
            "text/plain": [
              "array([[-3.95202637e-02,  7.75756836e-02, -8.82148743e-05, ...,\n",
              "        -1.26342773e-02, -2.12402344e-02, -2.50816345e-03],\n",
              "       [-3.19213867e-02,  7.21435547e-02,  2.99835205e-02, ...,\n",
              "        -1.08413696e-02, -1.19628906e-02, -7.66372681e-03],\n",
              "       [-5.89599609e-02,  6.12487793e-02,  1.26419067e-02, ...,\n",
              "        -2.25372314e-02,  4.67681885e-03, -6.26754761e-03],\n",
              "       ...,\n",
              "       [-5.52978516e-02,  6.89697266e-02,  2.69622803e-02, ...,\n",
              "        -2.54211426e-02, -2.52227783e-02, -2.68859863e-02],\n",
              "       [-3.90014648e-02,  5.63049316e-02,  4.76684570e-02, ...,\n",
              "        -1.77001953e-02,  9.33074951e-03, -8.72039795e-03],\n",
              "       [-2.99377441e-02,  5.81054688e-02,  1.70898438e-02, ...,\n",
              "        -1.61132812e-02, -1.79290771e-02, -4.35791016e-02]])"
            ]
          },
          "metadata": {},
          "execution_count": 23
        }
      ]
    },
    {
      "cell_type": "code",
      "source": [
        "d = text_embeddings.shape[1]\n",
        "index = faiss.IndexFlatL2(d)\n",
        "index.add(text_embeddings)"
      ],
      "metadata": {
        "id": "mmWdoit7_Aij"
      },
      "id": "mmWdoit7_Aij",
      "execution_count": 24,
      "outputs": []
    },
    {
      "cell_type": "markdown",
      "source": [
        "# Question"
      ],
      "metadata": {
        "id": "pE0AFpCT_YnG"
      },
      "id": "pE0AFpCT_YnG"
    },
    {
      "cell_type": "code",
      "source": [
        "question = \"What were the two main things the author worked on before college?\"\n",
        "question_embeddings = np.array([get_text_embedding(question)])"
      ],
      "metadata": {
        "id": "W3xftyHG_EKR"
      },
      "id": "W3xftyHG_EKR",
      "execution_count": 25,
      "outputs": []
    },
    {
      "cell_type": "code",
      "source": [
        "D, I = index.search(question_embeddings, k=2)"
      ],
      "metadata": {
        "id": "wJmCUg8E_H6R"
      },
      "id": "wJmCUg8E_H6R",
      "execution_count": 26,
      "outputs": []
    },
    {
      "cell_type": "code",
      "source": [
        "retrieved_chunk = [chunks[i] for i in I.tolist()[0]]"
      ],
      "metadata": {
        "id": "2a3I1F2C_Juj"
      },
      "id": "2a3I1F2C_Juj",
      "execution_count": 27,
      "outputs": []
    },
    {
      "cell_type": "markdown",
      "source": [
        "# Prompt"
      ],
      "metadata": {
        "id": "AzPpkKf8_nSD"
      },
      "id": "AzPpkKf8_nSD"
    },
    {
      "cell_type": "code",
      "source": [
        "prompt = f\"\"\"\n",
        "Context information is below.\n",
        "---------------------\n",
        "{retrieved_chunk}\n",
        "---------------------\n",
        "Given the context information and not prior knowledge, answer the query.\n",
        "Query: {question}\n",
        "Answer:\n",
        "\"\"\""
      ],
      "metadata": {
        "id": "IxQyRbrcRf4o"
      },
      "id": "IxQyRbrcRf4o",
      "execution_count": 28,
      "outputs": []
    },
    {
      "cell_type": "code",
      "source": [
        "def run_mistral(user_message, model=\"mistral-medium-latest\"):\n",
        "    messages = [\n",
        "        ChatMessage(role=\"user\", content=user_message)\n",
        "    ]\n",
        "    chat_response = client.chat(\n",
        "        model=model,\n",
        "        messages=messages\n",
        "    )\n",
        "    return (chat_response.choices[0].message.content)"
      ],
      "metadata": {
        "id": "I1uy9_95Rjd9"
      },
      "id": "I1uy9_95Rjd9",
      "execution_count": 29,
      "outputs": []
    },
    {
      "cell_type": "code",
      "source": [
        "run_mistral(prompt)"
      ],
      "metadata": {
        "id": "GXshCKUoRla-",
        "outputId": "ce5ecfff-b924-4d6a-8999-b1be2a78ca6c",
        "colab": {
          "base_uri": "https://localhost:8080/",
          "height": 140
        }
      },
      "id": "GXshCKUoRla-",
      "execution_count": 30,
      "outputs": [
        {
          "output_type": "execute_result",
          "data": {
            "text/plain": [
              "'The two main things the author worked on before college were writing and programming. In terms of writing, the author wrote short stories, although they described them as being awful with little plot and mainly focusing on characters with strong feelings. As for programming, the author started writing programs in an early version of Fortran on an IBM 1401 in 9th grade, which they had access to in their school district\\'s basement. However, the author notes that they couldn\\'t figure out what to do with it and didn\\'t have any data stored on punched cards, which limited their options. The author also mentions that during their first year of grad school, they realized that AI as practiced at the time was a hoax, and they decided to focus on Lisp instead, eventually writing a book about Lisp hacking called \"On Lisp\".'"
            ],
            "application/vnd.google.colaboratory.intrinsic+json": {
              "type": "string"
            }
          },
          "metadata": {},
          "execution_count": 30
        }
      ]
    }
  ],
  "metadata": {
    "jupytext": {
      "formats": "ipynb,py:light"
    },
    "kernelspec": {
      "display_name": "Python 3",
      "name": "python3"
    },
    "language_info": {
      "codemirror_mode": {
        "name": "ipython",
        "version": 3
      },
      "file_extension": ".py",
      "mimetype": "text/x-python",
      "name": "python",
      "nbconvert_exporter": "python",
      "pygments_lexer": "ipython3",
      "version": "3.10.0"
    },
    "colab": {
      "provenance": [],
      "toc_visible": true
    }
  },
  "nbformat": 4,
  "nbformat_minor": 5
}